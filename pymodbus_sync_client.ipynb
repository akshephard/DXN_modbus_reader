{
 "cells": [
  {
   "cell_type": "code",
   "execution_count": 61,
   "metadata": {},
   "outputs": [],
   "source": [
    "#!/usr/bin/env python\n",
    "'''\n",
    "Pymodbus Synchrnonous Client Test with Dynasonic DXN Energy Meter\n",
    "--------------------------------------------------------------------------\n",
    "\n",
    "The following is an example of how to use the synchronous modbus client\n",
    "implementation from pymodbus. This has been adapted from a sample script \n",
    "at https://pythonhosted.org/pymodbus/examples/synchronous-client.html\n",
    "\n",
    "_Additional Note from sample script:\n",
    "It should be noted that the client can also be used with\n",
    "the guard construct that is available in python 2.5 and up::\n",
    "\n",
    "    with ModbusClient('127.0.0.1') as client:\n",
    "        result = client.read_coils(1,10)\n",
    "        print result\n",
    "        \n",
    "           \n",
    "***Created 2018-07-22 by Chris Weyandt        \n",
    "'''\n",
    "\n",
    "#---------------------------------------------------------------------------# \n",
    "# import the required server implementation\n",
    "#---------------------------------------------------------------------------# \n",
    "from pymodbus.client.sync import ModbusTcpClient as ModbusClient\n",
    "#from pymodbus.client.sync import ModbusUdpClient as ModbusClient\n",
    "#from pymodbus.client.sync import ModbusSerialClient as ModbusClient\n",
    "\n",
    "#additional imports for conversions\n",
    "from pymodbus.constants import Endian\n",
    "from pymodbus.payload import BinaryPayloadDecoder\n",
    "\n",
    "#---------------------------------------------------------------------------# \n",
    "# configure the client logging\n",
    "#---------------------------------------------------------------------------# \n",
    "import logging\n",
    "logging.basicConfig()\n",
    "log = logging.getLogger()\n",
    "log.setLevel(logging.DEBUG)"
   ]
  },
  {
   "cell_type": "code",
   "execution_count": 68,
   "metadata": {},
   "outputs": [],
   "source": [
    "#---------------------------------------------------------------------------# \n",
    "# Dynasonic DXN Energy Meter Modbus Register List\n",
    "#---------------------------------------------------------------------------# \n",
    "# https://www.badgermeter.com/resources/2364ad87-a49a-42ec-9bd7-98f5e7c1689f/dynasonics%20dxn%20portable%20clamp-on%20ultrasonic%20flow%20meter%20user%20manual%20hyb-um-00090-en.pdf/\n",
    "#\n",
    "# ['Signal Name', modbus_offset, num_bytes, 'unit']\n",
    "#\n",
    "# must be in inclusive sequential order (i.e. must define every set of \n",
    "# registers in a given block)\n",
    "# In current implementation, the modbus_offset and num_bytes parameters are \n",
    "# ignored - the decoder just processes the list in order as it pulls bytes\n",
    "# off of the read buffer.\n",
    "#---------------------------------------------------------------------------# \n",
    "reg_list = []\n",
    "reg_list.append( ['Signal Strength', 0, 2, '%'] )\n",
    "reg_list.append( ['Flow Rate', 2, 2, 'gpm'] )\n",
    "reg_list.append( ['Net Total', 4, 2, 'gal'] )\n",
    "reg_list.append( ['Positive Totalizer', 6, 2, 'gal'] )\n",
    "reg_list.append( ['Negative Totalizer', 8, 2, 'gal'] )\n",
    "reg_list.append( ['Temp1', 10, 2, 'degF'] )\n",
    "reg_list.append( ['Temp2', 12, 2, 'degF'] )"
   ]
  },
  {
   "cell_type": "code",
   "execution_count": 69,
   "metadata": {},
   "outputs": [],
   "source": [
    "#---------------------------------------------------------------------------# \n",
    "# choose the client you want\n",
    "#---------------------------------------------------------------------------# \n",
    "# make sure to start an implementation to hit against. For this\n",
    "# you can use an existing device, the reference implementation in the tools\n",
    "# directory, or start a pymodbus server.\n",
    "#---------------------------------------------------------------------------# \n",
    "\n",
    "IP_ADDRESS = '128.3.5.24'\n",
    "\n",
    "client = ModbusClient( IP_ADDRESS )"
   ]
  },
  {
   "cell_type": "code",
   "execution_count": 71,
   "metadata": {},
   "outputs": [
    {
     "name": "stderr",
     "output_type": "stream",
     "text": [
      "DEBUG:pymodbus.transaction:Current transaction state - TRANSCATION_COMPLETE\n",
      "DEBUG:pymodbus.transaction:Running transaction 2\n",
      "DEBUG:pymodbus.transaction:SEND: 0x0 0x2 0x0 0x0 0x0 0x6 0x1 0x3 0x0 0xc7 0x0 0xe\n",
      "DEBUG:pymodbus.client.sync:New Transaction state 'SENDING'\n",
      "DEBUG:pymodbus.transaction:Changing transaction state from 'SENDING' to 'WAITING FOR REPLY'\n",
      "DEBUG:pymodbus.transaction:Changing transaction state from 'WAITING FOR REPLY' to 'PROCESSING REPLY'\n",
      "DEBUG:pymodbus.transaction:RECV: 0x0 0x2 0x0 0x0 0x0 0x1f 0x1 0x3 0x1c 0x0 0x0 0x0 0x0 0x0 0x0 0x0 0x0 0x0 0x0 0x0 0x0 0x0 0x0 0x0 0x0 0x0 0x0 0x0 0x0 0x21 0xcb 0x42 0x9d 0x6c 0x8b 0x42 0xa2\n",
      "DEBUG:pymodbus.framer.socket_framer:Processing: 0x0 0x2 0x0 0x0 0x0 0x1f 0x1 0x3 0x1c 0x0 0x0 0x0 0x0 0x0 0x0 0x0 0x0 0x0 0x0 0x0 0x0 0x0 0x0 0x0 0x0 0x0 0x0 0x0 0x0 0x21 0xcb 0x42 0x9d 0x6c 0x8b 0x42 0xa2\n",
      "DEBUG:pymodbus.factory:Factory Response[ReadHoldingRegistersResponse: 3]\n",
      "DEBUG:pymodbus.transaction:Adding transaction 2\n",
      "DEBUG:pymodbus.transaction:Getting transaction 2\n",
      "DEBUG:pymodbus.transaction:Changing transaction state from 'PROCESSING REPLY' to 'TRANSACTION_COMPLETE'\n"
     ]
    },
    {
     "name": "stdout",
     "output_type": "stream",
     "text": [
      "<class 'pymodbus.register_read_message.ReadHoldingRegistersResponse'> \n",
      " ReadRegisterResponse (14)\n"
     ]
    }
   ],
   "source": [
    "#---------------------------------------------------------------------------# \n",
    "# read register range from device\n",
    "#---------------------------------------------------------------------------# \n",
    "# format is \n",
    "# read_holding_registers(start_register-1, num_registers, unit=device_num)\n",
    "# I'm unsure why you have to subtract 1 from the starting register, but you do\n",
    "#\n",
    "#\n",
    "# Expected Results\n",
    "#\n",
    "# SUCCESS: \n",
    "#     type(rr) = pymodbus.register_read_message.ReadHoldingRegistersResponse\n",
    "#     print(rr) = ReadRegisterResponse (14)\n",
    "#\n",
    "# Thrown when unable to connect to IP address:\n",
    "#     ConnectionException: Modbus Error: [Connection] \n",
    "#         Failed to connect[ModbusTcpClient(128.3.5.22:502)]\n",
    "#     type(rr) = invalid, as variable assignment was not executed successfully\n",
    "#\n",
    "# INVALID REGISTER: \n",
    "#     type(rr) = pymodbus.pdu.ExceptionResponse\n",
    "#     print(rr) = Exception Response(131, 3, IllegalAddress)\n",
    "#---------------------------------------------------------------------------# \n",
    "\n",
    "START_REGISTER = 200\n",
    "NUM_REGISTERS = 14\n",
    "UNIT_ID = 1\n",
    "\n",
    "rr = client.read_holding_registers(START_REGISTER-1, NUM_REGISTERS, unit=UNIT_ID)\n",
    "\n",
    "print(type(rr), '\\n', rr)"
   ]
  },
  {
   "cell_type": "code",
   "execution_count": 72,
   "metadata": {},
   "outputs": [
    {
     "name": "stderr",
     "output_type": "stream",
     "text": [
      "DEBUG:pymodbus.payload:[0, 0, 0, 0, 0, 0, 0, 0, 0, 0, 8651, 17053, 27787, 17058]\n",
      "DEBUG:pymodbus.payload:b'\\x00\\x00\\x00\\x00'\n",
      "DEBUG:pymodbus.payload:b'\\x00\\x00\\x00\\x00'\n",
      "DEBUG:pymodbus.payload:b'\\x00\\x00\\x00\\x00'\n",
      "DEBUG:pymodbus.payload:b'\\x00\\x00\\x00\\x00'\n",
      "DEBUG:pymodbus.payload:b'\\x00\\x00\\x00\\x00'\n",
      "DEBUG:pymodbus.payload:b'B\\x9d!\\xcb'\n",
      "DEBUG:pymodbus.payload:b'B\\xa2l\\x8b'\n"
     ]
    },
    {
     "name": "stdout",
     "output_type": "stream",
     "text": [
      "Signal Strength:  0.0 %\n",
      "Flow Rate:  0.0 gpm\n",
      "Net Total:  0.0 gal\n",
      "Positive Totalizer:  0.0 gal\n",
      "Negative Totalizer:  0.0 gal\n",
      "Temp1:  78.56600189208984 degF\n",
      "Temp2:  81.21199798583984 degF\n"
     ]
    }
   ],
   "source": [
    "#---------------------------------------------------------------------------# \n",
    "# Decode payload into proper format\n",
    "# Each type that decode_32bit_float runs, it pulls four bytes off the buffer\n",
    "# so it will fail if the number of read bytes is odd, or if you try to read\n",
    "# past the end of the buffer.\n",
    "#---------------------------------------------------------------------------# \n",
    "\n",
    "dec = BinaryPayloadDecoder.fromRegisters(\n",
    "    rr.registers,\n",
    "    byteorder=Endian.Big,\n",
    "    wordorder=Endian.Little)\n",
    "for metric in reg_list:\n",
    "    print(metric[0] + \":  \" + str(dec.decode_32bit_float()) + \" \" + metric[3])\n",
    "\n",
    "        \n",
    "#---------------------------------------------------------------------------# \n",
    "# close the client\n",
    "#---------------------------------------------------------------------------# \n",
    "client.close()"
   ]
  },
  {
   "cell_type": "code",
   "execution_count": 73,
   "metadata": {},
   "outputs": [
    {
     "data": {
      "text/plain": [
       "\u001b[0;31mInit signature:\u001b[0m \u001b[0mBinaryPayloadDecoder\u001b[0m\u001b[0;34m(\u001b[0m\u001b[0mpayload\u001b[0m\u001b[0;34m,\u001b[0m \u001b[0mbyteorder\u001b[0m\u001b[0;34m=\u001b[0m\u001b[0;34m'<'\u001b[0m\u001b[0;34m,\u001b[0m \u001b[0mwordorder\u001b[0m\u001b[0;34m=\u001b[0m\u001b[0;34m'>'\u001b[0m\u001b[0;34m)\u001b[0m\u001b[0;34m\u001b[0m\u001b[0m\n",
       "\u001b[0;31mDocstring:\u001b[0m     \n",
       "A utility that helps decode payload messages from a modbus\n",
       "reponse message.  It really is just a simple wrapper around\n",
       "the struct module, however it saves time looking up the format\n",
       "strings. What follows is a simple example::\n",
       "\n",
       "    decoder = BinaryPayloadDecoder(payload)\n",
       "    first   = decoder.decode_8bit_uint()\n",
       "    second  = decoder.decode_16bit_uint()\n",
       "\u001b[0;31mInit docstring:\u001b[0m\n",
       "Initialize a new payload decoder\n",
       "\n",
       ":param payload: The payload to decode with\n",
       ":param byteorder: The endianess of the payload\n",
       ":param wordorder: The endianess of the word (when wordcount is >= 2)\n",
       "\u001b[0;31mFile:\u001b[0m           ~/anaconda3/lib/python3.6/site-packages/pymodbus/payload.py\n",
       "\u001b[0;31mType:\u001b[0m           type\n"
      ]
     },
     "metadata": {},
     "output_type": "display_data"
    }
   ],
   "source": [
    "?BinaryPayloadDecoder"
   ]
  },
  {
   "cell_type": "code",
   "execution_count": null,
   "metadata": {},
   "outputs": [],
   "source": []
  }
 ],
 "metadata": {
  "kernelspec": {
   "display_name": "Python [default]",
   "language": "python",
   "name": "python3"
  },
  "language_info": {
   "codemirror_mode": {
    "name": "ipython",
    "version": 3
   },
   "file_extension": ".py",
   "mimetype": "text/x-python",
   "name": "python",
   "nbconvert_exporter": "python",
   "pygments_lexer": "ipython3",
   "version": "3.6.4"
  }
 },
 "nbformat": 4,
 "nbformat_minor": 2
}
